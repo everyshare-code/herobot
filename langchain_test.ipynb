{
 "cells": [
  {
   "cell_type": "code",
   "execution_count": 2,
   "id": "606f66fc-952e-4ea8-9d51-7eea960d82ee",
   "metadata": {},
   "outputs": [
    {
     "name": "stdout",
     "output_type": "stream",
     "text": [
      "{\n",
      "    \"type\": \"message\",\n",
      "    \"name\": \"Herero\",\n",
      "    \"text\": \"\",\n",
      "    \"recommend\": {},\n",
      "    \"flight\": {},\n",
      "    \"search\": {}\n",
      "}\n"
     ]
    }
   ],
   "source": [
    "import json\n",
    "response_data = {\n",
    "    \"type\": \"message\",\n",
    "    \"name\": \"Herero\",\n",
    "    \"text\": \"\",\n",
    "    \"recommend\": {},\n",
    "    \"flight\": {},\n",
    "    \"search\": {}\n",
    "}\n",
    "\n",
    "json_string = json.dumps(response_data, ensure_ascii=False, indent=4)\n",
    "print(json_string)"
   ]
  },
  {
   "cell_type": "code",
   "execution_count": null,
   "id": "d57afa05-4c3c-4780-803a-f1202b637d23",
   "metadata": {},
   "outputs": [],
   "source": [
    "from dotenv import load_dotenv\n",
    "from langchain_openai import ChatOpenAI\n",
    "\n",
    "load_dotenv()\n",
    "llm = ChatOpenAI(model_name=\"gpt-4o\", temperature=0.2)\n"
   ]
  }
 ],
 "metadata": {
  "kernelspec": {
   "display_name": "Python 3 (ipykernel)",
   "language": "python",
   "name": "python3"
  },
  "language_info": {
   "codemirror_mode": {
    "name": "ipython",
    "version": 3
   },
   "file_extension": ".py",
   "mimetype": "text/x-python",
   "name": "python",
   "nbconvert_exporter": "python",
   "pygments_lexer": "ipython3",
   "version": "3.11.6"
  }
 },
 "nbformat": 4,
 "nbformat_minor": 5
}
